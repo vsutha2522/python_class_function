{
 "cells": [
  {
   "cell_type": "code",
   "execution_count": null,
   "id": "200b5448",
   "metadata": {},
   "outputs": [],
   "source": [
    "def Subfields():\n",
    "    print(\"  Subfields in AI are :\")\n",
    "    lists=['machine learning','netural network','vision','Robotices','speech processing','natural lanuageprocessing']\n",
    "    for i in lists:\n",
    "        print(i)\n",
    "        "
   ]
  },
  {
   "cell_type": "code",
   "execution_count": null,
   "id": "7729e326",
   "metadata": {},
   "outputs": [],
   "source": [
    "Subfields()"
   ]
  },
  {
   "cell_type": "code",
   "execution_count": 1,
   "id": "89a1ee9b",
   "metadata": {},
   "outputs": [],
   "source": [
    "class SubfieldsInAI():\n",
    "    def Subfields():\n",
    "        print(\"  Subfields in AI are :\")\n",
    "        lists=['machine learning','netural network','vision','Robotices','speech processing','natural lanuageprocessing']\n",
    "        for i in lists:\n",
    "            print(i)\n",
    "    "
   ]
  },
  {
   "cell_type": "code",
   "execution_count": 2,
   "id": "6e2f4b60",
   "metadata": {},
   "outputs": [
    {
     "name": "stdout",
     "output_type": "stream",
     "text": [
      "  Subfields in AI are :\n",
      "machine learning\n",
      "netural network\n",
      "vision\n",
      "Robotices\n",
      "speech processing\n",
      "natural lanuageprocessing\n"
     ]
    }
   ],
   "source": [
    " SubfieldsInAI.Subfields()"
   ]
  },
  {
   "cell_type": "code",
   "execution_count": null,
   "id": "e9001516",
   "metadata": {},
   "outputs": [],
   "source": [
    "num=int(input(\"Enter the number\"))\n",
    "if (num%2==0):\n",
    "    print(\"the number is even\")\n",
    "else:\n",
    "    print(\"The number is odd\")"
   ]
  },
  {
   "cell_type": "code",
   "execution_count": 3,
   "id": "99b3b4f2",
   "metadata": {},
   "outputs": [],
   "source": [
    "class ODDEVEN():\n",
    "    def oddeven():\n",
    "        num=int(input(\"Enter the number\"))\n",
    "        if (num%2==0):\n",
    "            print(\"the number is even\")\n",
    "        else:\n",
    "            print(\"The number is odd\")\n",
    "    "
   ]
  },
  {
   "cell_type": "code",
   "execution_count": 4,
   "id": "6a84ef35",
   "metadata": {},
   "outputs": [
    {
     "name": "stdout",
     "output_type": "stream",
     "text": [
      "Enter the number52532\n",
      "the number is even\n"
     ]
    }
   ],
   "source": [
    "ODDEVEN.oddeven()"
   ]
  },
  {
   "cell_type": "code",
   "execution_count": null,
   "id": "5696caeb",
   "metadata": {},
   "outputs": [],
   "source": [
    "\n",
    "def eligiblitymarriage():\n",
    "    gender=input(\"Enter the your gender :\")\n",
    "    if(gender=='male'):\n",
    "        age=int(input(\"Enter your age :\"))\n",
    "        if(age==21):\n",
    "            print(\"Eligible\")\n",
    "        else:\n",
    "            print(\"not eligible\")\n",
    "    elif(gender=='female'):\n",
    "        age=int(input(\"Enter your age :\"))\n",
    "        if(age==18):\n",
    "            print(\"Eligible\")\n",
    "        else:\n",
    "            print(\"not eligible\")"
   ]
  },
  {
   "cell_type": "code",
   "execution_count": null,
   "id": "d98963b6",
   "metadata": {},
   "outputs": [],
   "source": [
    "eligiblitymarriage()"
   ]
  },
  {
   "cell_type": "code",
   "execution_count": 5,
   "id": "cb2903cb",
   "metadata": {},
   "outputs": [],
   "source": [
    "class EligiblityForMarriage():\n",
    "    \n",
    "    def eligiblitymarriage():\n",
    "            gender=input(\"Enter the your gender :\")\n",
    "            if(gender=='male'):\n",
    "                age=int(input(\"Enter your age :\"))\n",
    "                if(age==21):\n",
    "                    print(\"Eligible\")\n",
    "                else:\n",
    "                    print(\"not eligible\")\n",
    "            elif(gender=='female'):\n",
    "                age=int(input(\"Enter your age :\"))\n",
    "                if(age==18):\n",
    "                    print(\"Eligible\")\n",
    "                else:\n",
    "                    print(\"not eligible\")\n"
   ]
  },
  {
   "cell_type": "markdown",
   "id": "1a32a35a",
   "metadata": {},
   "source": [
    "##### EligiblityForMarriage.eligiblitymarriage()"
   ]
  },
  {
   "cell_type": "code",
   "execution_count": null,
   "id": "2ed67068",
   "metadata": {},
   "outputs": [],
   "source": []
  },
  {
   "cell_type": "code",
   "execution_count": 7,
   "id": "d623e34f",
   "metadata": {},
   "outputs": [],
   "source": [
    "class Findpercent():\n",
    "    def percentage():\n",
    "            subject1=int(input(\"Enter the subject1 mark:\"))\n",
    "            subject2=int(input(\"Enter the subject2 mark:\"))\n",
    "            subject3=int(input(\"Enter the subject3 mark:\"))\n",
    "            subject4=int(input(\"Enter the subject4 mark:\"))\n",
    "            subject5=int(input(\"Enter the subject5 mark:\"))\n",
    "            Total=(subject1+subject2+subject3+subject4+subject5)\n",
    "            percent=(Total/500)*100\n",
    "            print(percent)\n"
   ]
  },
  {
   "cell_type": "code",
   "execution_count": 8,
   "id": "a05bd058",
   "metadata": {},
   "outputs": [
    {
     "name": "stdout",
     "output_type": "stream",
     "text": [
      "Enter the subject1 mark:98\n",
      "Enter the subject2 mark:87\n",
      "Enter the subject3 mark:95\n",
      "Enter the subject4 mark:95\n",
      "Enter the subject5 mark:93\n",
      "93.60000000000001\n"
     ]
    }
   ],
   "source": [
    "Findpercent.percentage()"
   ]
  },
  {
   "cell_type": "code",
   "execution_count": 10,
   "id": "af33198c",
   "metadata": {},
   "outputs": [],
   "source": [
    "class triangle():\n",
    "    def triangle():\n",
    "        height=int(input(\"Enter the height of triangle:\"))\n",
    "        breath=int(input(\"Enter the breath of triangle:\"))\n",
    "        Area =(height*breath)/2\n",
    "        print(Area) \n",
    "        height1=int(input(\"Enter the height1 of triangle:\"))\n",
    "        height2=int(input(\"Enter the height2 of triangle:\"))\n",
    "        breath1=int(input(\"Enter the breath of triangle:\"))\n",
    "        perimeter=(height1+height2+breath1)\n",
    "        print(perimeter)"
   ]
  },
  {
   "cell_type": "code",
   "execution_count": 11,
   "id": "7e0dc2aa",
   "metadata": {},
   "outputs": [
    {
     "name": "stdout",
     "output_type": "stream",
     "text": [
      "Enter the height of triangle:32\n",
      "Enter the breath of triangle:34\n",
      "544.0\n",
      "Enter the height1 of triangle:2\n",
      "Enter the height2 of triangle:4\n",
      "Enter the breath of triangle:4\n",
      "10\n"
     ]
    }
   ],
   "source": [
    "triangle.triangle()"
   ]
  },
  {
   "cell_type": "code",
   "execution_count": null,
   "id": "4a37d4a7",
   "metadata": {},
   "outputs": [],
   "source": []
  }
 ],
 "metadata": {
  "kernelspec": {
   "display_name": "Python 3 (ipykernel)",
   "language": "python",
   "name": "python3"
  },
  "language_info": {
   "codemirror_mode": {
    "name": "ipython",
    "version": 3
   },
   "file_extension": ".py",
   "mimetype": "text/x-python",
   "name": "python",
   "nbconvert_exporter": "python",
   "pygments_lexer": "ipython3",
   "version": "3.11.5"
  }
 },
 "nbformat": 4,
 "nbformat_minor": 5
}
