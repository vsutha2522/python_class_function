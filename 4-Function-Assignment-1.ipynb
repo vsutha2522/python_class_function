{
 "cells": [
  {
   "cell_type": "code",
   "execution_count": 1,
   "id": "0e417156",
   "metadata": {},
   "outputs": [],
   "source": [
    "def Subfields():\n",
    "    print(\"  Subfields in AI are :\")\n",
    "    lists=['machine learning','netural network','vision','Robotices','speech processing','natural lanuageprocessing']\n",
    "    for i in lists:\n",
    "        print(i)\n",
    "        \n",
    "        "
   ]
  },
  {
   "cell_type": "code",
   "execution_count": 2,
   "id": "4ccabc0a",
   "metadata": {},
   "outputs": [
    {
     "name": "stdout",
     "output_type": "stream",
     "text": [
      "  Subfields in AI are :\n",
      "machine learning\n",
      "netural network\n",
      "vision\n",
      "Robotices\n",
      "speech processing\n",
      "natural lanuageprocessing\n"
     ]
    }
   ],
   "source": [
    "SubfieldInAI=Subfields()"
   ]
  },
  {
   "cell_type": "code",
   "execution_count": 3,
   "id": "7eaa77a9",
   "metadata": {},
   "outputs": [
    {
     "name": "stdout",
     "output_type": "stream",
     "text": [
      "Enter the number52452\n",
      "the number is even\n"
     ]
    }
   ],
   "source": [
    "num=int(input(\"Enter the number\"))\n",
    "if (num%2==0):\n",
    "    print(\"the number is even\")\n",
    "else:\n",
    "    print(\"The number is odd\")"
   ]
  },
  {
   "cell_type": "code",
   "execution_count": 4,
   "id": "be3fc502",
   "metadata": {},
   "outputs": [],
   "source": [
    "def oddeven():\n",
    "    num=int(input(\"Enter the number\"))\n",
    "    if (num%2==0):\n",
    "        print(\"the number is even\")\n",
    "    else:\n",
    "        print(\"The number is odd\")"
   ]
  },
  {
   "cell_type": "code",
   "execution_count": 5,
   "id": "bcf317bd",
   "metadata": {},
   "outputs": [
    {
     "name": "stdout",
     "output_type": "stream",
     "text": [
      "Enter the number52452\n",
      "the number is even\n"
     ]
    }
   ],
   "source": [
    "oddeven1=oddeven()"
   ]
  },
  {
   "cell_type": "code",
   "execution_count": 5,
   "id": "d16d7649",
   "metadata": {},
   "outputs": [],
   "source": [
    "def eligiblitymarriage():\n",
    "    \n",
    "    gender=input(\"Enter the your gender :\")\n",
    "    if(gender=='male'):\n",
    "        age=int(input(\"Enter your age :\"))\n",
    "        if(age==21):\n",
    "            print(\"Eligible\")\n",
    "        else:\n",
    "            print(\"not eligible\")\n",
    "    elif(gender=='female'):\n",
    "        age=int(input(\"Enter your age :\"))\n",
    "        if(age==18):\n",
    "            print(\"Eligible\")\n",
    "        else:\n",
    "            print(\"not eligible\")\n",
    "    "
   ]
  },
  {
   "cell_type": "code",
   "execution_count": 6,
   "id": "5d8b1ea2",
   "metadata": {},
   "outputs": [
    {
     "name": "stdout",
     "output_type": "stream",
     "text": [
      "Enter the your gender :male\n",
      "Enter your age :20\n",
      "not eligible\n"
     ]
    }
   ],
   "source": [
    "eligiblitymarriage()\n"
   ]
  },
  {
   "cell_type": "code",
   "execution_count": 5,
   "id": "072388c1",
   "metadata": {},
   "outputs": [],
   "source": [
    "def percentage():\n",
    "    subject1=int(input(\"Enter the subject1 mark:\"))\n",
    "    subject2=int(input(\"Enter the subject2 mark:\"))\n",
    "    subject3=int(input(\"Enter the subject3 mark:\"))\n",
    "    subject4=int(input(\"Enter the subject4 mark:\"))\n",
    "    subject5=int(input(\"Enter the subject5 mark:\"))\n",
    "    Total=(subject1+subject2+subject3+subject4+subject5)\n",
    "    percent=(Total/500)*100\n",
    "    print(percent)\n",
    "    return percent\n",
    "        "
   ]
  },
  {
   "cell_type": "code",
   "execution_count": 6,
   "id": "37e94c31",
   "metadata": {},
   "outputs": [
    {
     "name": "stdout",
     "output_type": "stream",
     "text": [
      "Enter the subject1 mark:98\n",
      "Enter the subject2 mark:87\n",
      "Enter the subject3 mark:95\n",
      "Enter the subject4 mark:95\n",
      "Enter the subject5 mark:93\n",
      "93.60000000000001\n"
     ]
    }
   ],
   "source": [
    "totalmark=percentage()"
   ]
  },
  {
   "cell_type": "code",
   "execution_count": null,
   "id": "815840e1",
   "metadata": {},
   "outputs": [],
   "source": [
    "#find area and permimeter of triangle"
   ]
  },
  {
   "cell_type": "code",
   "execution_count": 18,
   "id": "4c5f3cc2",
   "metadata": {},
   "outputs": [],
   "source": [
    "def triangle():\n",
    "    height=int(input(\"Enter the height of triangle:\"))\n",
    "    breath=int(input(\"Enter the breath of triangle:\"))\n",
    "    Area =(height*breath)/2\n",
    "    print(Area) \n",
    "    height1=int(input(\"Enter the height1 of triangle:\"))\n",
    "    height2=int(input(\"Enter the height2 of triangle:\"))\n",
    "    breath1=int(input(\"Enter the breath of triangle:\"))\n",
    "    perimeter=(height1+height2+breath1)\n",
    "    print(perimeter)\n",
    "    "
   ]
  },
  {
   "cell_type": "code",
   "execution_count": 19,
   "id": "5119f1ff",
   "metadata": {},
   "outputs": [
    {
     "name": "stdout",
     "output_type": "stream",
     "text": [
      "Enter the height of triangle:32\n",
      "Enter the breath of triangle:34\n",
      "544.0\n",
      "Enter the height1 of triangle:2\n",
      "Enter the height2 of triangle:4\n",
      "Enter the breath of triangle:4\n",
      "10\n"
     ]
    }
   ],
   "source": [
    "triangle()"
   ]
  },
  {
   "cell_type": "code",
   "execution_count": null,
   "id": "e55296e4",
   "metadata": {},
   "outputs": [],
   "source": []
  }
 ],
 "metadata": {
  "kernelspec": {
   "display_name": "Python 3 (ipykernel)",
   "language": "python",
   "name": "python3"
  },
  "language_info": {
   "codemirror_mode": {
    "name": "ipython",
    "version": 3
   },
   "file_extension": ".py",
   "mimetype": "text/x-python",
   "name": "python",
   "nbconvert_exporter": "python",
   "pygments_lexer": "ipython3",
   "version": "3.11.5"
  }
 },
 "nbformat": 4,
 "nbformat_minor": 5
}
